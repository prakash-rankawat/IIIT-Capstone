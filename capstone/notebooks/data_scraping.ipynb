{
 "cells": [
  {
   "cell_type": "code",
   "execution_count": 27,
   "id": "c33d31be-33b6-414e-a46f-b14b1721fc3b",
   "metadata": {},
   "outputs": [],
   "source": [
    "from bs4 import BeautifulSoup\n",
    "import requests\n",
    "import pandas as pd\n",
    "import numpy as np\n",
    "from tqdm import tqdm\n",
    "tqdm.pandas()"
   ]
  },
  {
   "cell_type": "code",
   "execution_count": 4,
   "id": "477061cf-bee0-4ada-b72d-8a453fd15aa8",
   "metadata": {},
   "outputs": [],
   "source": [
    "df = pd.read_csv(\"web_trust.csv\")"
   ]
  },
  {
   "cell_type": "code",
   "execution_count": 5,
   "id": "1838886b-5084-4361-8407-8cdb40572a1e",
   "metadata": {},
   "outputs": [
    {
     "data": {
      "text/html": [
       "<div>\n",
       "<style scoped>\n",
       "    .dataframe tbody tr th:only-of-type {\n",
       "        vertical-align: middle;\n",
       "    }\n",
       "\n",
       "    .dataframe tbody tr th {\n",
       "        vertical-align: top;\n",
       "    }\n",
       "\n",
       "    .dataframe thead th {\n",
       "        text-align: right;\n",
       "    }\n",
       "</style>\n",
       "<table border=\"1\" class=\"dataframe\">\n",
       "  <thead>\n",
       "    <tr style=\"text-align: right;\">\n",
       "      <th></th>\n",
       "      <th>Unnamed: 0</th>\n",
       "      <th>document_id</th>\n",
       "      <th>URL</th>\n",
       "      <th>Credibility_rating</th>\n",
       "      <th>ad_count</th>\n",
       "      <th>ad_max_size</th>\n",
       "      <th>css_definitions</th>\n",
       "      <th>page_rank</th>\n",
       "      <th>bitly_clicks</th>\n",
       "      <th>bitly_referrers</th>\n",
       "      <th>...</th>\n",
       "      <th>X9</th>\n",
       "      <th>Total</th>\n",
       "      <th>Leik</th>\n",
       "      <th>Eijk</th>\n",
       "      <th>Tastle</th>\n",
       "      <th>Leik 3 4 6</th>\n",
       "      <th>correction</th>\n",
       "      <th>resp_HNC</th>\n",
       "      <th>Controversial</th>\n",
       "      <th>troia_label</th>\n",
       "    </tr>\n",
       "  </thead>\n",
       "  <tbody>\n",
       "    <tr>\n",
       "      <th>0</th>\n",
       "      <td>0</td>\n",
       "      <td>2199424</td>\n",
       "      <td>http://unemployment.ohio.gov/</td>\n",
       "      <td>3.714286</td>\n",
       "      <td>0.0</td>\n",
       "      <td>0.0</td>\n",
       "      <td>106.0</td>\n",
       "      <td>6.0</td>\n",
       "      <td>9.0</td>\n",
       "      <td>5.0</td>\n",
       "      <td>...</td>\n",
       "      <td>0.0</td>\n",
       "      <td>7.0</td>\n",
       "      <td>0.571429</td>\n",
       "      <td>0.357143</td>\n",
       "      <td>0.613196</td>\n",
       "      <td>0.542857</td>\n",
       "      <td>0.0</td>\n",
       "      <td>2</td>\n",
       "      <td>U</td>\n",
       "      <td>3.0</td>\n",
       "    </tr>\n",
       "    <tr>\n",
       "      <th>1</th>\n",
       "      <td>1</td>\n",
       "      <td>2199427</td>\n",
       "      <td>http://www.law.cornell.edu/wex/unemployment_co...</td>\n",
       "      <td>4.428571</td>\n",
       "      <td>4.0</td>\n",
       "      <td>75000.0</td>\n",
       "      <td>1824.0</td>\n",
       "      <td>5.0</td>\n",
       "      <td>12.0</td>\n",
       "      <td>1.0</td>\n",
       "      <td>...</td>\n",
       "      <td>0.0</td>\n",
       "      <td>7.0</td>\n",
       "      <td>0.714286</td>\n",
       "      <td>0.714286</td>\n",
       "      <td>0.735143</td>\n",
       "      <td>0.600000</td>\n",
       "      <td>0.0</td>\n",
       "      <td>3</td>\n",
       "      <td>U</td>\n",
       "      <td>5.0</td>\n",
       "    </tr>\n",
       "    <tr>\n",
       "      <th>2</th>\n",
       "      <td>2</td>\n",
       "      <td>2547110</td>\n",
       "      <td>http://kiem-tv.com/?q=node/4395</td>\n",
       "      <td>4.000000</td>\n",
       "      <td>0.0</td>\n",
       "      <td>0.0</td>\n",
       "      <td>18.0</td>\n",
       "      <td>2.0</td>\n",
       "      <td>0.0</td>\n",
       "      <td>0.0</td>\n",
       "      <td>...</td>\n",
       "      <td>0.0</td>\n",
       "      <td>7.0</td>\n",
       "      <td>0.714286</td>\n",
       "      <td>0.571429</td>\n",
       "      <td>0.762836</td>\n",
       "      <td>0.657143</td>\n",
       "      <td>0.0</td>\n",
       "      <td>2</td>\n",
       "      <td>U</td>\n",
       "      <td>4.0</td>\n",
       "    </tr>\n",
       "    <tr>\n",
       "      <th>3</th>\n",
       "      <td>3</td>\n",
       "      <td>2547112</td>\n",
       "      <td>http://www.sciencedaily.com/releases/2012/09/1...</td>\n",
       "      <td>4.833333</td>\n",
       "      <td>9.0</td>\n",
       "      <td>75000.0</td>\n",
       "      <td>383.0</td>\n",
       "      <td>3.0</td>\n",
       "      <td>45.0</td>\n",
       "      <td>9.0</td>\n",
       "      <td>...</td>\n",
       "      <td>0.0</td>\n",
       "      <td>6.0</td>\n",
       "      <td>0.916667</td>\n",
       "      <td>0.916667</td>\n",
       "      <td>0.892660</td>\n",
       "      <td>0.866667</td>\n",
       "      <td>0.0</td>\n",
       "      <td>3</td>\n",
       "      <td>U</td>\n",
       "      <td>5.0</td>\n",
       "    </tr>\n",
       "    <tr>\n",
       "      <th>4</th>\n",
       "      <td>4</td>\n",
       "      <td>2547113</td>\n",
       "      <td>http://articles.timesofindia.indiatimes.com/20...</td>\n",
       "      <td>3.888889</td>\n",
       "      <td>2.0</td>\n",
       "      <td>75000.0</td>\n",
       "      <td>599.0</td>\n",
       "      <td>3.0</td>\n",
       "      <td>3.0</td>\n",
       "      <td>3.0</td>\n",
       "      <td>...</td>\n",
       "      <td>0.0</td>\n",
       "      <td>9.0</td>\n",
       "      <td>0.722222</td>\n",
       "      <td>0.611111</td>\n",
       "      <td>0.756750</td>\n",
       "      <td>0.688889</td>\n",
       "      <td>0.0</td>\n",
       "      <td>2</td>\n",
       "      <td>U</td>\n",
       "      <td>4.0</td>\n",
       "    </tr>\n",
       "  </tbody>\n",
       "</table>\n",
       "<p>5 rows × 50 columns</p>\n",
       "</div>"
      ],
      "text/plain": [
       "   Unnamed: 0  document_id                                                URL  \\\n",
       "0           0      2199424                      http://unemployment.ohio.gov/   \n",
       "1           1      2199427  http://www.law.cornell.edu/wex/unemployment_co...   \n",
       "2           2      2547110                    http://kiem-tv.com/?q=node/4395   \n",
       "3           3      2547112  http://www.sciencedaily.com/releases/2012/09/1...   \n",
       "4           4      2547113  http://articles.timesofindia.indiatimes.com/20...   \n",
       "\n",
       "   Credibility_rating  ad_count  ad_max_size  css_definitions  page_rank  \\\n",
       "0            3.714286       0.0          0.0            106.0        6.0   \n",
       "1            4.428571       4.0      75000.0           1824.0        5.0   \n",
       "2            4.000000       0.0          0.0             18.0        2.0   \n",
       "3            4.833333       9.0      75000.0            383.0        3.0   \n",
       "4            3.888889       2.0      75000.0            599.0        3.0   \n",
       "\n",
       "   bitly_clicks  bitly_referrers  ...   X9  Total      Leik      Eijk  \\\n",
       "0           9.0              5.0  ...  0.0    7.0  0.571429  0.357143   \n",
       "1          12.0              1.0  ...  0.0    7.0  0.714286  0.714286   \n",
       "2           0.0              0.0  ...  0.0    7.0  0.714286  0.571429   \n",
       "3          45.0              9.0  ...  0.0    6.0  0.916667  0.916667   \n",
       "4           3.0              3.0  ...  0.0    9.0  0.722222  0.611111   \n",
       "\n",
       "     Tastle  Leik 3 4 6  correction  resp_HNC  Controversial  troia_label  \n",
       "0  0.613196    0.542857         0.0         2              U          3.0  \n",
       "1  0.735143    0.600000         0.0         3              U          5.0  \n",
       "2  0.762836    0.657143         0.0         2              U          4.0  \n",
       "3  0.892660    0.866667         0.0         3              U          5.0  \n",
       "4  0.756750    0.688889         0.0         2              U          4.0  \n",
       "\n",
       "[5 rows x 50 columns]"
      ]
     },
     "execution_count": 3,
     "metadata": {},
     "output_type": "execute_result"
    }
   ],
   "source": [
    "df.head()"
   ]
  },
  {
   "cell_type": "code",
   "execution_count": 7,
   "id": "1dd9cd76-f538-4d43-be6d-8feff091cb84",
   "metadata": {},
   "outputs": [
    {
     "data": {
      "text/plain": [
       "Index(['Unnamed: 0', 'document_id', 'URL', 'Credibility_rating', 'ad_count',\n",
       "       'ad_max_size', 'css_definitions', 'page_rank', 'bitly_clicks',\n",
       "       'bitly_referrers', 'tweets', 'delicious_bookmarks', 'fb_clicks',\n",
       "       'fb_comments', 'fb_likes', 'fb_shares', 'fb_total', 'alexa_linksin',\n",
       "       'alexa_rank', 'commas', 'dots', 'exclamations', 'questions',\n",
       "       'spelling_errors', 'text_complexity', 'smog', 'category', 'JJ', 'NN',\n",
       "       'DT', 'VB', 'RB', 'num_ne', 'sum_ne', 'document_url_y', 'X1', 'X2',\n",
       "       'X3', 'X4', 'X5', 'X9', 'Total', 'Leik', 'Eijk', 'Tastle', 'Leik 3 4 6',\n",
       "       'correction', 'resp_HNC', 'Controversial', 'troia_label'],\n",
       "      dtype='object')"
      ]
     },
     "execution_count": 4,
     "metadata": {},
     "output_type": "execute_result"
    }
   ],
   "source": [
    "df.columns"
   ]
  },
  {
   "cell_type": "code",
   "execution_count": 30,
   "id": "a4bd504f-8ab1-41fc-a7fd-2f93df63658d",
   "metadata": {},
   "outputs": [
    {
     "data": {
      "text/plain": [
       "(5691, 50)"
      ]
     },
     "execution_count": 5,
     "metadata": {},
     "output_type": "execute_result"
    }
   ],
   "source": [
    "df.shape"
   ]
  },
  {
   "cell_type": "code",
   "execution_count": 6,
   "id": "8ecbf6c0-6ea7-4df6-b125-1ccfd808dc42",
   "metadata": {},
   "outputs": [],
   "source": [
    "temp = df.head(3)"
   ]
  },
  {
   "cell_type": "code",
   "execution_count": 24,
   "id": "71656673-328f-4537-a388-d685ea15be6e",
   "metadata": {},
   "outputs": [],
   "source": [
    "def get_content(url):\n",
    "    arr = np.nan\n",
    "    try:\n",
    "        response = requests.get(url, timeout = 4).text\n",
    "        soup = BeautifulSoup(response, \"lxml\")\n",
    "        for script in soup([\"script\", \"style\"]):\n",
    "            script.decompose()\n",
    "        arr = soup.get_text(\" \", strip = True).split(\"\\n\")\n",
    "    except:\n",
    "        pass\n",
    "    return arr"
   ]
  },
  {
   "cell_type": "code",
   "execution_count": 28,
   "id": "5cdb0160-4c86-49f9-b586-e331ccccb3b2",
   "metadata": {},
   "outputs": [
    {
     "name": "stderr",
     "output_type": "stream",
     "text": [
      "100%|████████████████████████████████████████████████████████████████████████████████████| 3/3 [00:08<00:00,  2.89s/it]\n",
      "C:\\Users\\hp\\AppData\\Local\\Temp/ipykernel_17404/831070317.py:1: SettingWithCopyWarning: \n",
      "A value is trying to be set on a copy of a slice from a DataFrame.\n",
      "Try using .loc[row_indexer,col_indexer] = value instead\n",
      "\n",
      "See the caveats in the documentation: https://pandas.pydata.org/pandas-docs/stable/user_guide/indexing.html#returning-a-view-versus-a-copy\n",
      "  temp[\"content\"] = temp[\"URL\"].progress_apply(lambda x: get_content(x))\n"
     ]
    }
   ],
   "source": [
    "temp[\"content\"] = temp[\"URL\"].progress_apply(lambda x: get_content(x))"
   ]
  },
  {
   "cell_type": "code",
   "execution_count": 16,
   "id": "745892ed-12db-435e-b7cb-b336dff95191",
   "metadata": {},
   "outputs": [
    {
     "data": {
      "text/plain": [
       "1    http://www.law.cornell.edu/wex/unemployment_co...\n",
       "2                      http://kiem-tv.com/?q=node/4395\n",
       "Name: URL, dtype: object"
      ]
     },
     "execution_count": 9,
     "metadata": {},
     "output_type": "execute_result"
    }
   ],
   "source": [
    "temp[\"URL\"][1:]"
   ]
  },
  {
   "cell_type": "code",
   "execution_count": 30,
   "id": "21e093c4-e916-4731-a758-4aa1ba4cf4bc",
   "metadata": {},
   "outputs": [
    {
     "data": {
      "text/plain": [
       "['Unemployment compensation | Wex | US Law | LII / Legal Information Institute Please help us improve our site! × No thank you Skip to main content Cornell Law',\n",
       " '\\t\\t\\t\\tSchool Search',\n",
       " '\\t\\t\\t\\tCornell Toggle navigation Please help',\n",
       " '\\t\\t\\t\\t\\t\\t\\tus improve our site! Support Us! Search About',\n",
       " '\\t\\t\\t\\t\\t\\t\\t\\t\\tLII Who We Are What We Do Who Pays For This Contact Us Get the',\n",
       " '\\t\\t\\t\\t\\t\\t\\t\\t\\tlaw Constitution Supreme Court U.S. Code CFR Federal Rules Federal Rules of Appellate Procedure Federal Rules of Civil Procedure Federal Rules of Criminal Procedure Federal Rules of Evidence Federal Rules of Bankruptcy Procedure U.C.C. Law by jurisdiction State law Uniform laws Federal law World law Lawyer directory Legal encyclopedia Business law Constitutional law Criminal law Family law Employment law Money and Finances More... Help out Give Sponsor Advertise Create Promote Join Lawyer Directory LII Wex Unemployment compensation Unemployment compensation Primary tabs Unemployment Compensation law: an overview Unemployment insurance provides workers, whose jobs have been terminated through no fault of their own, monetary payments for a given period of time or until they find a new job. Unemployment payments are intended to provide an unemployed worker time to find a new job equivalent to the one lost without financial distress. Without employment compensation, many workers would be forced to take jobs for which they were overqualified or end up on welfare. Unemployment compensation is also justified by sustaining consumer spending during periods of economic adjustment. In the United States, unemployment insurance is based on a dual program of federal and state statutes. The program was established by the federal Social Security Act in 1935. Much of the federal program is implemented through the Federal Unemployment Tax Act. Each state administers a separate unemployment insurance program, which must be approved by the Secretary of Labor, based on federal standards. The state programs are applicable to areas normally regulated by laws of the U.S, but there are special federal rules for nonprofit organizations and governmental entities. A combination of federal and state law determine which employees are eligible for compensation, the amount they receive, and the period of time benefits are paid. To support the unemployment compensation systems, a combination of federal and state taxes are levied upon employers. States base employer contributions on the amount of wages the employer has paid, the amount the employer havs contributed to the unemployment fund, and the amount that the discharged employees have been compensated from the fund. Any state tax imposed on employers (and certain credits on that tax) may be credited against the federal tax. The proceeds from the unemployment taxes are deposited in an Unemployment Trust Fund (the Fund). Each state has a separate account in the Fund to which deposits are made. Within the fund are separate accounts for state administrative costs and extended unemployment compensation. During economic recessions, the federal government has provided emergency assistance to allow states to extend the time for which individuals can receive benefits. This is accomplished through a temporary law authorizing the transfer of money to a state from its Extended Unemployment Account. The ability of a state to tap into this emergency system is usually dependent on the employment rate reaching a designated percentage within the state or the nation. Some states provide additional unemployment benefits to workers who are disabled. Financing for the California disability compensation program, for example, comes from a tax on employees. The Railroad Unemployment Insurance Act provides unemployment compensation for workers in the railroad industry who lose their jobs. menu of sources Federal Material U.S. Constitution and Federal Statutes U.S. Code: Federal Unemployment Tax Act - 26 U.S.C. 3301 et seq . Federal Grants to States for Unemployment Compensation Administration - 42 U.S.C. § 1101 et seq . Unemployment Trust Fund - 42 U.S.C. § 1104 . The Railroad Unemployment Insurance Act - 45 U.S.C. § 351 et seq . CRS Annotated Constitution Federal Regulations Title 26 C.F.R. - Part 31 Federal Judicial Decisions U.S. Supreme Court: Recent Decisions on Unemployment Compensation liibulletin Oral Argument Previews U.S. Circuit Courts of Appeals: Recent Decisions on Unemployment Compensation State Material State Statutes State Unemployment Compensation Statutes State Statutes Dealing with Labor Judicial Decisions N.Y. Court of Appeals: Decisions on Unemployment Compensation Commentary from liibulletin-ny Appellate Decisions from Other States Other References Key Internet Sources Federal Agency: U.S. Department of Labor Online Service for Federal Employees Unemployment Compensation (Nolo) National ITSC Unemployment Insurance Web Site other topics Category: Employment Law Category: Public Benefits wex CIVICS government LIFE EVENTS employment wex articles Español Wex Toolbox Accessibility About LII Contact us Advertise here Help Terms of use Privacy']"
      ]
     },
     "execution_count": 30,
     "metadata": {},
     "output_type": "execute_result"
    }
   ],
   "source": [
    "temp.content[1]"
   ]
  },
  {
   "cell_type": "code",
   "execution_count": 31,
   "id": "90f17353-a5bd-4494-acf2-4527ad749871",
   "metadata": {},
   "outputs": [
    {
     "name": "stderr",
     "output_type": "stream",
     "text": [
      "100%|████████████████████████████████████████████████████████████████████████████| 5691/5691 [2:46:19<00:00,  1.75s/it]\n"
     ]
    }
   ],
   "source": [
    "df['content'] = df['URL'].progress_apply(lambda x: get_content(x))"
   ]
  },
  {
   "cell_type": "code",
   "execution_count": 32,
   "id": "f77fd54d-1071-4d2c-a503-0c3479c6c056",
   "metadata": {},
   "outputs": [
    {
     "data": {
      "text/html": [
       "<div>\n",
       "<style scoped>\n",
       "    .dataframe tbody tr th:only-of-type {\n",
       "        vertical-align: middle;\n",
       "    }\n",
       "\n",
       "    .dataframe tbody tr th {\n",
       "        vertical-align: top;\n",
       "    }\n",
       "\n",
       "    .dataframe thead th {\n",
       "        text-align: right;\n",
       "    }\n",
       "</style>\n",
       "<table border=\"1\" class=\"dataframe\">\n",
       "  <thead>\n",
       "    <tr style=\"text-align: right;\">\n",
       "      <th></th>\n",
       "      <th>Unnamed: 0</th>\n",
       "      <th>document_id</th>\n",
       "      <th>URL</th>\n",
       "      <th>Credibility_rating</th>\n",
       "      <th>ad_count</th>\n",
       "      <th>ad_max_size</th>\n",
       "      <th>css_definitions</th>\n",
       "      <th>page_rank</th>\n",
       "      <th>bitly_clicks</th>\n",
       "      <th>bitly_referrers</th>\n",
       "      <th>...</th>\n",
       "      <th>Total</th>\n",
       "      <th>Leik</th>\n",
       "      <th>Eijk</th>\n",
       "      <th>Tastle</th>\n",
       "      <th>Leik 3 4 6</th>\n",
       "      <th>correction</th>\n",
       "      <th>resp_HNC</th>\n",
       "      <th>Controversial</th>\n",
       "      <th>troia_label</th>\n",
       "      <th>content</th>\n",
       "    </tr>\n",
       "  </thead>\n",
       "  <tbody>\n",
       "    <tr>\n",
       "      <th>0</th>\n",
       "      <td>0</td>\n",
       "      <td>2199424</td>\n",
       "      <td>http://unemployment.ohio.gov/</td>\n",
       "      <td>3.714286</td>\n",
       "      <td>0.0</td>\n",
       "      <td>0.0</td>\n",
       "      <td>106.0</td>\n",
       "      <td>6.0</td>\n",
       "      <td>9.0</td>\n",
       "      <td>5.0</td>\n",
       "      <td>...</td>\n",
       "      <td>7.0</td>\n",
       "      <td>0.571429</td>\n",
       "      <td>0.357143</td>\n",
       "      <td>0.613196</td>\n",
       "      <td>0.542857</td>\n",
       "      <td>0.0</td>\n",
       "      <td>2</td>\n",
       "      <td>U</td>\n",
       "      <td>3.0</td>\n",
       "      <td>NaN</td>\n",
       "    </tr>\n",
       "    <tr>\n",
       "      <th>1</th>\n",
       "      <td>1</td>\n",
       "      <td>2199427</td>\n",
       "      <td>http://www.law.cornell.edu/wex/unemployment_co...</td>\n",
       "      <td>4.428571</td>\n",
       "      <td>4.0</td>\n",
       "      <td>75000.0</td>\n",
       "      <td>1824.0</td>\n",
       "      <td>5.0</td>\n",
       "      <td>12.0</td>\n",
       "      <td>1.0</td>\n",
       "      <td>...</td>\n",
       "      <td>7.0</td>\n",
       "      <td>0.714286</td>\n",
       "      <td>0.714286</td>\n",
       "      <td>0.735143</td>\n",
       "      <td>0.600000</td>\n",
       "      <td>0.0</td>\n",
       "      <td>3</td>\n",
       "      <td>U</td>\n",
       "      <td>5.0</td>\n",
       "      <td>[Unemployment compensation | Wex | US Law | LI...</td>\n",
       "    </tr>\n",
       "    <tr>\n",
       "      <th>2</th>\n",
       "      <td>2</td>\n",
       "      <td>2547110</td>\n",
       "      <td>http://kiem-tv.com/?q=node/4395</td>\n",
       "      <td>4.000000</td>\n",
       "      <td>0.0</td>\n",
       "      <td>0.0</td>\n",
       "      <td>18.0</td>\n",
       "      <td>2.0</td>\n",
       "      <td>0.0</td>\n",
       "      <td>0.0</td>\n",
       "      <td>...</td>\n",
       "      <td>7.0</td>\n",
       "      <td>0.714286</td>\n",
       "      <td>0.571429</td>\n",
       "      <td>0.762836</td>\n",
       "      <td>0.657143</td>\n",
       "      <td>0.0</td>\n",
       "      <td>2</td>\n",
       "      <td>U</td>\n",
       "      <td>4.0</td>\n",
       "      <td>[Redwood News - KIEM-TV - Local Humboldt Count...</td>\n",
       "    </tr>\n",
       "    <tr>\n",
       "      <th>3</th>\n",
       "      <td>3</td>\n",
       "      <td>2547112</td>\n",
       "      <td>http://www.sciencedaily.com/releases/2012/09/1...</td>\n",
       "      <td>4.833333</td>\n",
       "      <td>9.0</td>\n",
       "      <td>75000.0</td>\n",
       "      <td>383.0</td>\n",
       "      <td>3.0</td>\n",
       "      <td>45.0</td>\n",
       "      <td>9.0</td>\n",
       "      <td>...</td>\n",
       "      <td>6.0</td>\n",
       "      <td>0.916667</td>\n",
       "      <td>0.916667</td>\n",
       "      <td>0.892660</td>\n",
       "      <td>0.866667</td>\n",
       "      <td>0.0</td>\n",
       "      <td>3</td>\n",
       "      <td>U</td>\n",
       "      <td>5.0</td>\n",
       "      <td>[]</td>\n",
       "    </tr>\n",
       "    <tr>\n",
       "      <th>4</th>\n",
       "      <td>4</td>\n",
       "      <td>2547113</td>\n",
       "      <td>http://articles.timesofindia.indiatimes.com/20...</td>\n",
       "      <td>3.888889</td>\n",
       "      <td>2.0</td>\n",
       "      <td>75000.0</td>\n",
       "      <td>599.0</td>\n",
       "      <td>3.0</td>\n",
       "      <td>3.0</td>\n",
       "      <td>3.0</td>\n",
       "      <td>...</td>\n",
       "      <td>9.0</td>\n",
       "      <td>0.722222</td>\n",
       "      <td>0.611111</td>\n",
       "      <td>0.756750</td>\n",
       "      <td>0.688889</td>\n",
       "      <td>0.0</td>\n",
       "      <td>2</td>\n",
       "      <td>U</td>\n",
       "      <td>4.0</td>\n",
       "      <td>NaN</td>\n",
       "    </tr>\n",
       "  </tbody>\n",
       "</table>\n",
       "<p>5 rows × 51 columns</p>\n",
       "</div>"
      ],
      "text/plain": [
       "   Unnamed: 0  document_id                                                URL  \\\n",
       "0           0      2199424                      http://unemployment.ohio.gov/   \n",
       "1           1      2199427  http://www.law.cornell.edu/wex/unemployment_co...   \n",
       "2           2      2547110                    http://kiem-tv.com/?q=node/4395   \n",
       "3           3      2547112  http://www.sciencedaily.com/releases/2012/09/1...   \n",
       "4           4      2547113  http://articles.timesofindia.indiatimes.com/20...   \n",
       "\n",
       "   Credibility_rating  ad_count  ad_max_size  css_definitions  page_rank  \\\n",
       "0            3.714286       0.0          0.0            106.0        6.0   \n",
       "1            4.428571       4.0      75000.0           1824.0        5.0   \n",
       "2            4.000000       0.0          0.0             18.0        2.0   \n",
       "3            4.833333       9.0      75000.0            383.0        3.0   \n",
       "4            3.888889       2.0      75000.0            599.0        3.0   \n",
       "\n",
       "   bitly_clicks  bitly_referrers  ...  Total      Leik      Eijk    Tastle  \\\n",
       "0           9.0              5.0  ...    7.0  0.571429  0.357143  0.613196   \n",
       "1          12.0              1.0  ...    7.0  0.714286  0.714286  0.735143   \n",
       "2           0.0              0.0  ...    7.0  0.714286  0.571429  0.762836   \n",
       "3          45.0              9.0  ...    6.0  0.916667  0.916667  0.892660   \n",
       "4           3.0              3.0  ...    9.0  0.722222  0.611111  0.756750   \n",
       "\n",
       "   Leik 3 4 6  correction  resp_HNC  Controversial  troia_label  \\\n",
       "0    0.542857         0.0         2              U          3.0   \n",
       "1    0.600000         0.0         3              U          5.0   \n",
       "2    0.657143         0.0         2              U          4.0   \n",
       "3    0.866667         0.0         3              U          5.0   \n",
       "4    0.688889         0.0         2              U          4.0   \n",
       "\n",
       "                                             content  \n",
       "0                                                NaN  \n",
       "1  [Unemployment compensation | Wex | US Law | LI...  \n",
       "2  [Redwood News - KIEM-TV - Local Humboldt Count...  \n",
       "3                                                 []  \n",
       "4                                                NaN  \n",
       "\n",
       "[5 rows x 51 columns]"
      ]
     },
     "execution_count": 32,
     "metadata": {},
     "output_type": "execute_result"
    }
   ],
   "source": [
    "df.head()"
   ]
  },
  {
   "cell_type": "code",
   "execution_count": 33,
   "id": "150f4724-d068-4118-aaad-17df5e6c802c",
   "metadata": {},
   "outputs": [
    {
     "data": {
      "text/plain": [
       "857"
      ]
     },
     "execution_count": 33,
     "metadata": {},
     "output_type": "execute_result"
    }
   ],
   "source": [
    "df.content.isna().sum()"
   ]
  },
  {
   "cell_type": "code",
   "execution_count": 35,
   "id": "153e37c5-0cde-4158-88ef-c0ae815e79cf",
   "metadata": {},
   "outputs": [
    {
     "data": {
      "text/plain": [
       "(5691, 51)"
      ]
     },
     "execution_count": 35,
     "metadata": {},
     "output_type": "execute_result"
    }
   ],
   "source": [
    "df.shape"
   ]
  },
  {
   "cell_type": "code",
   "execution_count": 39,
   "id": "2b98d39e-9730-475f-9a41-ff6396c250e5",
   "metadata": {},
   "outputs": [
    {
     "data": {
      "text/plain": [
       "15.058864874363028"
      ]
     },
     "execution_count": 39,
     "metadata": {},
     "output_type": "execute_result"
    }
   ],
   "source": [
    "((df.content.isna().sum())/df.shape[0])*100"
   ]
  },
  {
   "cell_type": "code",
   "execution_count": 40,
   "id": "fe631a7f-4f51-4c76-90cb-12da1b160c31",
   "metadata": {},
   "outputs": [
    {
     "data": {
      "text/plain": [
       "Index(['Unnamed: 0', 'document_id', 'URL', 'Credibility_rating', 'ad_count',\n",
       "       'ad_max_size', 'css_definitions', 'page_rank', 'bitly_clicks',\n",
       "       'bitly_referrers', 'tweets', 'delicious_bookmarks', 'fb_clicks',\n",
       "       'fb_comments', 'fb_likes', 'fb_shares', 'fb_total', 'alexa_linksin',\n",
       "       'alexa_rank', 'commas', 'dots', 'exclamations', 'questions',\n",
       "       'spelling_errors', 'text_complexity', 'smog', 'category', 'JJ', 'NN',\n",
       "       'DT', 'VB', 'RB', 'num_ne', 'sum_ne', 'document_url_y', 'X1', 'X2',\n",
       "       'X3', 'X4', 'X5', 'X9', 'Total', 'Leik', 'Eijk', 'Tastle', 'Leik 3 4 6',\n",
       "       'correction', 'resp_HNC', 'Controversial', 'troia_label', 'content'],\n",
       "      dtype='object')"
      ]
     },
     "execution_count": 40,
     "metadata": {},
     "output_type": "execute_result"
    }
   ],
   "source": [
    "df.columns"
   ]
  },
  {
   "cell_type": "code",
   "execution_count": 41,
   "id": "4134e269-97cf-43d9-87b4-d02ac7f7806a",
   "metadata": {},
   "outputs": [],
   "source": [
    "df.drop('Unnamed: 0', axis = 1, inplace = True)"
   ]
  },
  {
   "cell_type": "code",
   "execution_count": 42,
   "id": "3b9d7e8e-1b76-4ee5-ac8f-5da5d928e25a",
   "metadata": {},
   "outputs": [],
   "source": [
    "df.to_csv(\"web_trust_content.csv\", index = False, encoding = \"utf-8-sig\")"
   ]
  },
  {
   "cell_type": "code",
   "execution_count": null,
   "id": "47079c1e-285f-4965-b7ad-12737d786a54",
   "metadata": {},
   "outputs": [],
   "source": []
  }
 ],
 "metadata": {
  "kernelspec": {
   "display_name": "Python 3 (ipykernel)",
   "language": "python",
   "name": "python3"
  },
  "language_info": {
   "codemirror_mode": {
    "name": "ipython",
    "version": 3
   },
   "file_extension": ".py",
   "mimetype": "text/x-python",
   "name": "python",
   "nbconvert_exporter": "python",
   "pygments_lexer": "ipython3",
   "version": "3.9.11"
  }
 },
 "nbformat": 4,
 "nbformat_minor": 5
}
