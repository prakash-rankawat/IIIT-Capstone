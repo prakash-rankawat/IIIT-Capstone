{
 "cells": [
  {
   "cell_type": "code",
   "execution_count": 13,
   "id": "91a5c2dd",
   "metadata": {},
   "outputs": [],
   "source": [
    "import mysql.connector as MySQL\n",
    "import pandas as pd"
   ]
  },
  {
   "cell_type": "code",
   "execution_count": 1,
   "id": "244e7745",
   "metadata": {},
   "outputs": [],
   "source": [
    "host_name = \"localhost\"\n",
    "username = 'root'\n",
    "password = 'root' #dba password\n",
    "db = \"capstone\"\n",
    "table = 'web_raw_data'\n",
    "auth_plugin = 'mysql_native_password'\n",
    "conn = None"
   ]
  },
  {
   "cell_type": "code",
   "execution_count": 3,
   "id": "8f9517f1",
   "metadata": {},
   "outputs": [],
   "source": [
    "def connect_to_db(host_name, username, password, auth_plugin):\n",
    "    try:\n",
    "        conn = MySQL.connect(host=host_name, user = username, password = password, auth_plugin=auth_plugin)\n",
    "    except MySQL.errorcode as err:\n",
    "        if err.errno == errorcode.ER_TABLE_EXISTS_ERROR:\n",
    "            print(\"already exists.\")\n",
    "        else:\n",
    "            print(err.msg)\n",
    "    else:\n",
    "        print('Connected!')\n",
    "        return conn"
   ]
  },
  {
   "cell_type": "code",
   "execution_count": 38,
   "id": "227d34e8",
   "metadata": {},
   "outputs": [
    {
     "name": "stdout",
     "output_type": "stream",
     "text": [
      "Connected!\n"
     ]
    }
   ],
   "source": [
    "conn=connect_to_db(host_name,username,password,auth_plugin)"
   ]
  },
  {
   "cell_type": "code",
   "execution_count": 7,
   "id": "3356c3c9",
   "metadata": {},
   "outputs": [],
   "source": [
    "def execute_sql_command(conn,sql_query):\n",
    "    try:\n",
    "        c = conn.cursor()\n",
    "        c.execute(sql_query)\n",
    "        return c\n",
    "    except Exception as err:\n",
    "        print(err)"
   ]
  },
  {
   "cell_type": "code",
   "execution_count": 30,
   "id": "a53d4252",
   "metadata": {},
   "outputs": [],
   "source": [
    "cursor=execute_sql_command(conn,\"select url from {}.{} limit 10\".format(db,table))"
   ]
  },
  {
   "cell_type": "code",
   "execution_count": 31,
   "id": "e39fbe07",
   "metadata": {},
   "outputs": [
    {
     "data": {
      "text/plain": [
       "[('http://unemployment.ohio.gov/',),\n",
       " ('http://www.law.cornell.edu/wex/unemployment_compensation',),\n",
       " ('http://kiem-tv.com/?q=node/4395',),\n",
       " ('http://www.sciencedaily.com/releases/2012/09/120902113550.htm',),\n",
       " ('http://articles.timesofindia.indiatimes.com/2013-01-02/computing/36110957_1_electronic-cigarettes-traditional-cigarettes-regular-cigarettes',),\n",
       " ('http://www.ofspirit.com/brucefife1.htm',),\n",
       " ('http://www.ashtarcommandcrew.net/forum/topics/coconut-the-tree-of-life-superfood-cure-all',),\n",
       " ('http://www.mindbodygreen.com/0-4348/5-Ways-to-Use-Coconut-Oil.html',),\n",
       " ('http://www.co-optimus.com/review/1158/page/1/guardians-of-middle-earth-co-op-review.html',),\n",
       " ('http://katieholmes.com/',)]"
      ]
     },
     "execution_count": 31,
     "metadata": {},
     "output_type": "execute_result"
    }
   ],
   "source": [
    "cursor.fetchall()"
   ]
  },
  {
   "cell_type": "code",
   "execution_count": 32,
   "id": "635fcff0",
   "metadata": {},
   "outputs": [
    {
     "data": {
      "text/plain": [
       "True"
      ]
     },
     "execution_count": 32,
     "metadata": {},
     "output_type": "execute_result"
    }
   ],
   "source": [
    "cursor.close()"
   ]
  },
  {
   "cell_type": "code",
   "execution_count": 36,
   "id": "e5b0952f",
   "metadata": {},
   "outputs": [],
   "source": [
    "def last_sr_no(conn):\n",
    "    cursor=execute_sql_command(conn,\"select max(serial_number) from {}.{}\".format(db,table))\n",
    "    srno=cursor.fetchone()\n",
    "    cursor.close()\n",
    "    return srno[0]"
   ]
  },
  {
   "cell_type": "code",
   "execution_count": 39,
   "id": "4c8de838",
   "metadata": {},
   "outputs": [
    {
     "data": {
      "text/plain": [
       "11382"
      ]
     },
     "execution_count": 39,
     "metadata": {},
     "output_type": "execute_result"
    }
   ],
   "source": [
    "last_sr_no(conn)"
   ]
  },
  {
   "cell_type": "code",
   "execution_count": 27,
   "id": "4009885f",
   "metadata": {},
   "outputs": [],
   "source": [
    "feature_list = [{\n",
    "        'commas':1, 'exclamations':0, 'dots':2, 'questions':1,\n",
    "        'spelling_errors':104, 'text_complexity':1.937519, 'smog':3.0,\n",
    "        'NN':55, 'VB':1, 'JJ':2, 'RB':0, 'DT':0, 'alexa_rank':4, 'document_url_y':\"com\"\n",
    "    }]\n",
    "df=pd.DataFrame(feature_list)"
   ]
  },
  {
   "cell_type": "code",
   "execution_count": 74,
   "id": "d5797bd1",
   "metadata": {},
   "outputs": [],
   "source": [
    "df['url']=\"https://www.google.com\""
   ]
  },
  {
   "cell_type": "code",
   "execution_count": 75,
   "id": "043b6304",
   "metadata": {},
   "outputs": [
    {
     "data": {
      "text/html": [
       "<div>\n",
       "<style scoped>\n",
       "    .dataframe tbody tr th:only-of-type {\n",
       "        vertical-align: middle;\n",
       "    }\n",
       "\n",
       "    .dataframe tbody tr th {\n",
       "        vertical-align: top;\n",
       "    }\n",
       "\n",
       "    .dataframe thead th {\n",
       "        text-align: right;\n",
       "    }\n",
       "</style>\n",
       "<table border=\"1\" class=\"dataframe\">\n",
       "  <thead>\n",
       "    <tr style=\"text-align: right;\">\n",
       "      <th></th>\n",
       "      <th>commas</th>\n",
       "      <th>exclamations</th>\n",
       "      <th>dots</th>\n",
       "      <th>questions</th>\n",
       "      <th>spelling_errors</th>\n",
       "      <th>text_complexity</th>\n",
       "      <th>smog</th>\n",
       "      <th>NN</th>\n",
       "      <th>VB</th>\n",
       "      <th>JJ</th>\n",
       "      <th>RB</th>\n",
       "      <th>DT</th>\n",
       "      <th>alexa_rank</th>\n",
       "      <th>document_url_y</th>\n",
       "      <th>url</th>\n",
       "    </tr>\n",
       "  </thead>\n",
       "  <tbody>\n",
       "    <tr>\n",
       "      <th>0</th>\n",
       "      <td>1</td>\n",
       "      <td>0</td>\n",
       "      <td>2</td>\n",
       "      <td>1</td>\n",
       "      <td>104</td>\n",
       "      <td>1.937519</td>\n",
       "      <td>3.0</td>\n",
       "      <td>55</td>\n",
       "      <td>1</td>\n",
       "      <td>2</td>\n",
       "      <td>0</td>\n",
       "      <td>0</td>\n",
       "      <td>4</td>\n",
       "      <td>com</td>\n",
       "      <td>https://www.google.com</td>\n",
       "    </tr>\n",
       "  </tbody>\n",
       "</table>\n",
       "</div>"
      ],
      "text/plain": [
       "   commas  exclamations  dots  questions  spelling_errors  text_complexity  \\\n",
       "0       1             0     2          1              104         1.937519   \n",
       "\n",
       "   smog  NN  VB  JJ  RB  DT  alexa_rank document_url_y                     url  \n",
       "0   3.0  55   1   2   0   0           4            com  https://www.google.com  "
      ]
     },
     "execution_count": 75,
     "metadata": {},
     "output_type": "execute_result"
    }
   ],
   "source": [
    "df"
   ]
  },
  {
   "cell_type": "code",
   "execution_count": 78,
   "id": "504dbb63",
   "metadata": {},
   "outputs": [
    {
     "data": {
      "text/plain": [
       "\"INSERT INTO capstone.web_raw_data (`serial_number`,`commas`,`exclamations`,`dots`,`questions`,`spelling_errors`,`text_complexity`,`smog`,`NN`,`VB`,`JJ`,`RB`,`DT`,`alexa_rank`,`document_url_y`,`url`) VALUES (11385,1, 0, 2, 1, 104, 1.937519, 3.0, 55, 1, 2, 0, 0, 4, 'com', 'https://www.google.com')\""
      ]
     },
     "execution_count": 78,
     "metadata": {},
     "output_type": "execute_result"
    }
   ],
   "source": [
    "\"INSERT INTO {0}.{1} (`serial_number`,`{2}`) VALUES ({3},{4})\".format(db,table,\"`,`\".join([str(i) for i in df.columns.tolist()]),11385,str(tuple(df.loc[0]))[1:-1])"
   ]
  },
  {
   "cell_type": "code",
   "execution_count": 79,
   "id": "3fe32da0",
   "metadata": {},
   "outputs": [],
   "source": [
    "def insertrow(conn,df):\n",
    "    new_srno=last_sr_no(conn)+1\n",
    "    cols = \"`,`\".join([str(i) for i in df.columns.tolist()])\n",
    "    row=tuple(df.loc[0])\n",
    "    sql = \"INSERT INTO {0}.{1} (`serial_number`,`{2}`) VALUES ({3},{4})\".format(db,table,cols,new_srno,str(row)[1:-1])\n",
    "    cursor=conn.cursor()\n",
    "    cursor.execute(sql)\n",
    "    conn.commit()\n",
    "    return new_srno"
   ]
  },
  {
   "cell_type": "code",
   "execution_count": 80,
   "id": "48b46066",
   "metadata": {},
   "outputs": [
    {
     "data": {
      "text/plain": [
       "11385"
      ]
     },
     "execution_count": 80,
     "metadata": {},
     "output_type": "execute_result"
    }
   ],
   "source": [
    "insertrow(conn,df)"
   ]
  },
  {
   "cell_type": "code",
   "execution_count": 70,
   "id": "c143b633",
   "metadata": {},
   "outputs": [],
   "source": [
    "def updateseqcolumn(conn,seq_id,column_name,value):\n",
    "    sql = \"UPDATE {0}.{1} SET {2}=\\\"{3}\\\" WHERE SERIAL_NUMBER={4}\".format(db,table,column_name,value,seq_id)\n",
    "    cursor=conn.cursor()\n",
    "    cursor.execute(sql)\n",
    "    conn.commit()\n",
    "    return seq_id"
   ]
  },
  {
   "cell_type": "code",
   "execution_count": 81,
   "id": "bc341bd0",
   "metadata": {},
   "outputs": [
    {
     "data": {
      "text/plain": [
       "11385"
      ]
     },
     "execution_count": 81,
     "metadata": {},
     "output_type": "execute_result"
    }
   ],
   "source": [
    "updateseqcolumn(conn,11385,\"category\",\"business\")"
   ]
  },
  {
   "cell_type": "code",
   "execution_count": 82,
   "id": "56273a23",
   "metadata": {},
   "outputs": [
    {
     "data": {
      "text/plain": [
       "11385"
      ]
     },
     "execution_count": 82,
     "metadata": {},
     "output_type": "execute_result"
    }
   ],
   "source": [
    "updateseqcolumn(conn,11385,\"credibility_rating\",3.54)"
   ]
  },
  {
   "cell_type": "code",
   "execution_count": 135,
   "id": "8b368f10",
   "metadata": {},
   "outputs": [],
   "source": [
    "class database:\n",
    "    def __init__(self, host_name, username, password, auth_plugin,db,table) :\n",
    "        self.host_name=host_name\n",
    "        self.username=username\n",
    "        self.password=password\n",
    "        self.auth_plugin=auth_plugin\n",
    "        self.db=db\n",
    "        self.table=table\n",
    "\n",
    "    def connect_to_db(self):\n",
    "        try:\n",
    "            conn = MySQL.connect(host=self.host_name, user = self.username, password = self.password, auth_plugin=self.auth_plugin)\n",
    "        except Exception as err:\n",
    "            print(err)\n",
    "        else:\n",
    "            print('Connected!')\n",
    "            return conn\n",
    "\n",
    "    def execute_query(self, sql_query):\n",
    "        conn=self.connect_to_db()\n",
    "        c = conn.cursor()\n",
    "        c.execute(sql_query)\n",
    "        return conn, c\n",
    "\n",
    "    def last_sr_no(self):\n",
    "        conn,cursor=self.execute_query(\"select max(serial_number) from {}.{}\".format(self.db,self.table))\n",
    "        srno=cursor.fetchone()\n",
    "        conn.close()\n",
    "        return srno[0]\n",
    "\n",
    "    def insert_row(self,df):\n",
    "        new_srno=self.last_sr_no()+1\n",
    "        cols = \"`,`\".join([str(i) for i in df.columns.tolist()])\n",
    "        row=tuple(df.loc[0])\n",
    "        sql = \"INSERT INTO {0}.{1} (`serial_number`,`{2}`) VALUES ({3},{4})\".format(self.db,self.table,cols,new_srno,str(row)[1:-1])\n",
    "        conn=self.connect_to_db()\n",
    "        cursor=conn.cursor()\n",
    "        cursor.execute(sql)\n",
    "        conn.commit()\n",
    "        conn.close()\n",
    "        return new_srno\n",
    "\n",
    "    def updateseqcolumn(self,seq_id,column_name,value):\n",
    "        sql = \"UPDATE {0}.{1} SET {2}=\\\"{3}\\\" WHERE SERIAL_NUMBER={4}\".format(self.db,self.table,column_name,value,seq_id)\n",
    "        conn=self.connect_to_db()\n",
    "        cursor=conn.cursor()\n",
    "        cursor.execute(sql)\n",
    "        conn.commit()\n",
    "        conn.close()\n",
    "        return seq_id\n",
    "    \n",
    "    def delete_url(self,url):\n",
    "        sql= \"DELETE FROM {0}.{1} WHERE URL=\\\"{2}\\\"\".format(self.db,self.table,url)\n",
    "        conn=self.connect_to_db()\n",
    "        cursor=conn.cursor()\n",
    "        cursor.execute(sql)\n",
    "        conn.commit()\n",
    "        conn.close()\n",
    "        \n",
    "    def query_cols(self,seq_id,col_list):\n",
    "        sql=\"select {0} from {1}.{2} where serial_number={3}\".format(\", \".join(col_list),db,table,seq_id)\n",
    "        conn=self.connect_to_db()\n",
    "        cursor=conn.cursor()\n",
    "        cursor.execute(sql)\n",
    "        result=cursor.fetchall()\n",
    "        conn.commit()\n",
    "        conn.close()\n",
    "        return pd.DataFrame(result,columns=col_list)\n",
    "        "
   ]
  },
  {
   "cell_type": "code",
   "execution_count": 136,
   "id": "d0b4b6ce",
   "metadata": {},
   "outputs": [],
   "source": [
    "db_util=database(host_name,username,password,auth_plugin,db,table)"
   ]
  },
  {
   "cell_type": "code",
   "execution_count": 110,
   "id": "dec8525b",
   "metadata": {},
   "outputs": [
    {
     "name": "stdout",
     "output_type": "stream",
     "text": [
      "Connected!\n"
     ]
    },
    {
     "data": {
      "text/plain": [
       "11385"
      ]
     },
     "execution_count": 110,
     "metadata": {},
     "output_type": "execute_result"
    }
   ],
   "source": [
    "db_util.last_sr_no()"
   ]
  },
  {
   "cell_type": "code",
   "execution_count": 111,
   "id": "b59467ce",
   "metadata": {},
   "outputs": [
    {
     "data": {
      "text/html": [
       "<div>\n",
       "<style scoped>\n",
       "    .dataframe tbody tr th:only-of-type {\n",
       "        vertical-align: middle;\n",
       "    }\n",
       "\n",
       "    .dataframe tbody tr th {\n",
       "        vertical-align: top;\n",
       "    }\n",
       "\n",
       "    .dataframe thead th {\n",
       "        text-align: right;\n",
       "    }\n",
       "</style>\n",
       "<table border=\"1\" class=\"dataframe\">\n",
       "  <thead>\n",
       "    <tr style=\"text-align: right;\">\n",
       "      <th></th>\n",
       "      <th>commas</th>\n",
       "      <th>exclamations</th>\n",
       "      <th>dots</th>\n",
       "      <th>questions</th>\n",
       "      <th>spelling_errors</th>\n",
       "      <th>text_complexity</th>\n",
       "      <th>smog</th>\n",
       "      <th>NN</th>\n",
       "      <th>VB</th>\n",
       "      <th>JJ</th>\n",
       "      <th>RB</th>\n",
       "      <th>DT</th>\n",
       "      <th>alexa_rank</th>\n",
       "      <th>document_url_y</th>\n",
       "      <th>url</th>\n",
       "    </tr>\n",
       "  </thead>\n",
       "  <tbody>\n",
       "    <tr>\n",
       "      <th>0</th>\n",
       "      <td>1</td>\n",
       "      <td>0</td>\n",
       "      <td>2</td>\n",
       "      <td>1</td>\n",
       "      <td>104</td>\n",
       "      <td>1.937519</td>\n",
       "      <td>3.0</td>\n",
       "      <td>55</td>\n",
       "      <td>1</td>\n",
       "      <td>2</td>\n",
       "      <td>0</td>\n",
       "      <td>0</td>\n",
       "      <td>4</td>\n",
       "      <td>com</td>\n",
       "      <td>https://www.google.com</td>\n",
       "    </tr>\n",
       "  </tbody>\n",
       "</table>\n",
       "</div>"
      ],
      "text/plain": [
       "   commas  exclamations  dots  questions  spelling_errors  text_complexity  \\\n",
       "0       1             0     2          1              104         1.937519   \n",
       "\n",
       "   smog  NN  VB  JJ  RB  DT  alexa_rank document_url_y                     url  \n",
       "0   3.0  55   1   2   0   0           4            com  https://www.google.com  "
      ]
     },
     "execution_count": 111,
     "metadata": {},
     "output_type": "execute_result"
    }
   ],
   "source": [
    "df"
   ]
  },
  {
   "cell_type": "code",
   "execution_count": 112,
   "id": "316bd345",
   "metadata": {},
   "outputs": [
    {
     "name": "stdout",
     "output_type": "stream",
     "text": [
      "Connected!\n",
      "Connected!\n"
     ]
    },
    {
     "data": {
      "text/plain": [
       "11386"
      ]
     },
     "execution_count": 112,
     "metadata": {},
     "output_type": "execute_result"
    }
   ],
   "source": [
    "db_util.insert_row(df)"
   ]
  },
  {
   "cell_type": "code",
   "execution_count": 113,
   "id": "768c9e7f",
   "metadata": {},
   "outputs": [
    {
     "name": "stdout",
     "output_type": "stream",
     "text": [
      "Connected!\n"
     ]
    },
    {
     "data": {
      "text/plain": [
       "11386"
      ]
     },
     "execution_count": 113,
     "metadata": {},
     "output_type": "execute_result"
    }
   ],
   "source": [
    "db_util.updateseqcolumn(11386,\"category\",\"computer_internet\")"
   ]
  },
  {
   "cell_type": "code",
   "execution_count": 114,
   "id": "2ce4a115",
   "metadata": {},
   "outputs": [
    {
     "name": "stdout",
     "output_type": "stream",
     "text": [
      "Connected!\n"
     ]
    },
    {
     "data": {
      "text/plain": [
       "11386"
      ]
     },
     "execution_count": 114,
     "metadata": {},
     "output_type": "execute_result"
    }
   ],
   "source": [
    "db_util.updateseqcolumn(11386,\"credibility_rating\",3.56)"
   ]
  },
  {
   "cell_type": "code",
   "execution_count": 121,
   "id": "37b93095",
   "metadata": {},
   "outputs": [
    {
     "name": "stdout",
     "output_type": "stream",
     "text": [
      "Connected!\n"
     ]
    }
   ],
   "source": [
    "db_util.delete_url(\"https://www.google.com\")"
   ]
  },
  {
   "cell_type": "code",
   "execution_count": 138,
   "id": "91c14114",
   "metadata": {},
   "outputs": [
    {
     "name": "stdout",
     "output_type": "stream",
     "text": [
      "Connected!\n"
     ]
    },
    {
     "data": {
      "text/html": [
       "<div>\n",
       "<style scoped>\n",
       "    .dataframe tbody tr th:only-of-type {\n",
       "        vertical-align: middle;\n",
       "    }\n",
       "\n",
       "    .dataframe tbody tr th {\n",
       "        vertical-align: top;\n",
       "    }\n",
       "\n",
       "    .dataframe thead th {\n",
       "        text-align: right;\n",
       "    }\n",
       "</style>\n",
       "<table border=\"1\" class=\"dataframe\">\n",
       "  <thead>\n",
       "    <tr style=\"text-align: right;\">\n",
       "      <th></th>\n",
       "      <th>serial_number</th>\n",
       "      <th>url</th>\n",
       "      <th>category</th>\n",
       "      <th>credibility_rating</th>\n",
       "    </tr>\n",
       "  </thead>\n",
       "  <tbody>\n",
       "    <tr>\n",
       "      <th>0</th>\n",
       "      <td>11080</td>\n",
       "      <td>http://www.erowid.org/library/books/seven_herb...</td>\n",
       "      <td>religion</td>\n",
       "      <td>4.500000000000000</td>\n",
       "    </tr>\n",
       "  </tbody>\n",
       "</table>\n",
       "</div>"
      ],
      "text/plain": [
       "   serial_number                                                url  category  \\\n",
       "0          11080  http://www.erowid.org/library/books/seven_herb...  religion   \n",
       "\n",
       "  credibility_rating  \n",
       "0  4.500000000000000  "
      ]
     },
     "execution_count": 138,
     "metadata": {},
     "output_type": "execute_result"
    }
   ],
   "source": [
    "db_util.query_cols(11080,['serial_number','url','category','credibility_rating'])"
   ]
  },
  {
   "cell_type": "code",
   "execution_count": 1,
   "id": "b0714d25",
   "metadata": {},
   "outputs": [],
   "source": [
    "host_name = \"localhost\"\n",
    "username = 'root'\n",
    "password = 'root' #dba password\n",
    "db = \"capstone\"\n",
    "table = 'web_raw_data'\n",
    "auth_plugin = 'mysql_native_password'\n",
    "conn = None"
   ]
  },
  {
   "cell_type": "code",
   "execution_count": 2,
   "id": "fd7937a9",
   "metadata": {},
   "outputs": [],
   "source": [
    "from utils.dbutils import database"
   ]
  },
  {
   "cell_type": "code",
   "execution_count": 3,
   "id": "b8ebdbfa",
   "metadata": {},
   "outputs": [],
   "source": [
    "dbutil=database(host_name,username,password,auth_plugin,db,table)"
   ]
  },
  {
   "cell_type": "code",
   "execution_count": 4,
   "id": "8888cf82",
   "metadata": {},
   "outputs": [
    {
     "name": "stdout",
     "output_type": "stream",
     "text": [
      "Connected!\n",
      "Connected!\n",
      "Connected!\n"
     ]
    }
   ],
   "source": [
    "dbutil.reset_db()"
   ]
  },
  {
   "cell_type": "code",
   "execution_count": 1,
   "id": "15347319",
   "metadata": {},
   "outputs": [],
   "source": [
    "import json"
   ]
  },
  {
   "cell_type": "code",
   "execution_count": 3,
   "id": "a7e06554",
   "metadata": {},
   "outputs": [],
   "source": [
    "cred_perf=json.load(open(\"models/credibility_performance.json\",\"r\"))"
   ]
  },
  {
   "cell_type": "code",
   "execution_count": 5,
   "id": "3dd1e351",
   "metadata": {},
   "outputs": [
    {
     "data": {
      "text/plain": [
       "0.5"
      ]
     },
     "execution_count": 5,
     "metadata": {},
     "output_type": "execute_result"
    }
   ],
   "source": [
    "cred_perf['regTestAccuScore']"
   ]
  },
  {
   "cell_type": "code",
   "execution_count": null,
   "id": "a26a2dcd",
   "metadata": {},
   "outputs": [],
   "source": []
  }
 ],
 "metadata": {
  "kernelspec": {
   "display_name": "Python 3 (ipykernel)",
   "language": "python",
   "name": "python3"
  },
  "language_info": {
   "codemirror_mode": {
    "name": "ipython",
    "version": 3
   },
   "file_extension": ".py",
   "mimetype": "text/x-python",
   "name": "python",
   "nbconvert_exporter": "python",
   "pygments_lexer": "ipython3",
   "version": "3.9.11"
  }
 },
 "nbformat": 4,
 "nbformat_minor": 5
}
